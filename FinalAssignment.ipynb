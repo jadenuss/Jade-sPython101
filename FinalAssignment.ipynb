{
 "cells": [
  {
   "cell_type": "code",
   "execution_count": 1,
   "metadata": {},
   "outputs": [],
   "source": [
    "#Python Basics for Data Science\n",
    "#IBM - PY0101EN\n",
    "#Started - Dec 4, 202\n",
    "#by Jade_Nuss\n",
    "#Title - Final Assignment"
   ]
  },
  {
   "cell_type": "code",
   "execution_count": 12,
   "metadata": {},
   "outputs": [
    {
     "name": "stdout",
     "output_type": "stream",
     "text": [
      "Dikembe Mutombo Mpolondo Mukamba Jean-Jacques Wamutombo\n"
     ]
    },
    {
     "data": {
      "text/plain": [
       "'       42 YES votes  0.00%'"
      ]
     },
     "execution_count": 12,
     "metadata": {},
     "output_type": "execute_result"
    }
   ],
   "source": [
    "print(\"Dikembe Mutombo Mpolondo Mukamba Jean-Jacques Wamutombo\")\n",
    "yes_votes = 42\n",
    "no_votes = 43\n",
    "percentage = (yes_votes / (yes_votes + no_votes))\n",
    "'{:-9} YES votes  {:2.2%}'.format(yes_votes, percentage)\n",
    "    "
   ]
  },
  {
   "cell_type": "code",
   "execution_count": null,
   "metadata": {},
   "outputs": [],
   "source": []
  }
 ],
 "metadata": {
  "kernelspec": {
   "display_name": "Python 2",
   "language": "python",
   "name": "python2"
  },
  "language_info": {
   "codemirror_mode": {
    "name": "ipython",
    "version": 2
   },
   "file_extension": ".py",
   "mimetype": "text/x-python",
   "name": "python",
   "nbconvert_exporter": "python",
   "pygments_lexer": "ipython2",
   "version": "2.7.18"
  }
 },
 "nbformat": 4,
 "nbformat_minor": 2
}
